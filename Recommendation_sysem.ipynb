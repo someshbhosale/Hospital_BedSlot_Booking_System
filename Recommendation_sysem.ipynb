{
 "cells": [
  {
   "cell_type": "code",
   "execution_count": 1,
   "id": "89ff5cb0",
   "metadata": {},
   "outputs": [],
   "source": [
    "import pandas as pd\n",
    "from sklearn.feature_extraction.text import TfidfVectorizer\n",
    "from sklearn.metrics.pairwise import linear_kernel"
   ]
  },
  {
   "cell_type": "code",
   "execution_count": null,
   "id": "2f51029f",
   "metadata": {},
   "outputs": [],
   "source": []
  },
  {
   "cell_type": "code",
   "execution_count": 2,
   "id": "2f8ac873",
   "metadata": {},
   "outputs": [],
   "source": [
    "ds = pd.read_csv(\"HospitalsInIndia.csv\")\n",
    "tf = TfidfVectorizer(analyzer='word', ngram_range=(1, 3), min_df=0, stop_words='english')\n",
    "tfidf_matrix = tf.fit_transform(ds['City'])\n",
    "cosine_similarities = linear_kernel(tfidf_matrix, tfidf_matrix)\n",
    "results = {}"
   ]
  },
  {
   "cell_type": "code",
   "execution_count": 3,
   "id": "828898b3",
   "metadata": {},
   "outputs": [
    {
     "name": "stdout",
     "output_type": "stream",
     "text": [
      "done!\n"
     ]
    }
   ],
   "source": [
    "for idx, row in ds.iterrows():\n",
    "    similar_indices = cosine_similarities[idx].argsort()[:-100:-1]\n",
    "    similar_items = [(cosine_similarities[idx][i], ds['Hospital'][i]) for i in similar_indices]\n",
    "    results[row['Hospital']] = similar_items[1:]    \n",
    "print('done!')"
   ]
  },
  {
   "cell_type": "code",
   "execution_count": 4,
   "id": "50648184",
   "metadata": {},
   "outputs": [],
   "source": [
    "def item(id):\n",
    "    return ds.loc[ds['Hospital'] == id]['City'].tolist()[0].split(' - ')[0]\n",
    "def recommend(item_id, num):\n",
    "    print(\"Recommending \" + str(num) + \" products similar to \" + item(item_id) + \"...\")\n",
    "    print(\"-------\")\n",
    "    recs = results[item_id][:num]\n",
    "    return recs"
   ]
  },
  {
   "cell_type": "code",
   "execution_count": 5,
   "id": "bcba9c34",
   "metadata": {
    "scrolled": true
   },
   "outputs": [
    {
     "name": "stdout",
     "output_type": "stream",
     "text": [
      "Recommending 5 products similar to Bangalore...\n",
      "-------\n"
     ]
    },
    {
     "data": {
      "text/plain": [
       "[(1.0, 'Citi Hospital'),\n",
       " (1.0,\n",
       "  'Bhagwan Mahaveer Jain Heart Centre( A Unit Of Srinivasa Cardiology Centre Pvt Ltd)'),\n",
       " (1.0, 'Acura Health Care Pvt Ltd'),\n",
       " (1.0, 'Ashwini Nursing Home'),\n",
       " (1.0, 'Ashwini Nursing Home')]"
      ]
     },
     "execution_count": 5,
     "metadata": {},
     "output_type": "execute_result"
    }
   ],
   "source": [
    "recommend(item_id='Abhaya Eye Hospital', num=5)"
   ]
  },
  {
   "cell_type": "code",
   "execution_count": null,
   "id": "50202b2c",
   "metadata": {},
   "outputs": [],
   "source": []
  }
 ],
 "metadata": {
  "kernelspec": {
   "display_name": "Python 3",
   "language": "python",
   "name": "python3"
  },
  "language_info": {
   "codemirror_mode": {
    "name": "ipython",
    "version": 3
   },
   "file_extension": ".py",
   "mimetype": "text/x-python",
   "name": "python",
   "nbconvert_exporter": "python",
   "pygments_lexer": "ipython3",
   "version": "3.10.9"
  },
  "vscode": {
   "interpreter": {
    "hash": "d26ba34ef9bc98adcc21cc0ac6ec1b67004d8fc011bc618e09c05e4d9c21c598"
   }
  }
 },
 "nbformat": 4,
 "nbformat_minor": 5
}
